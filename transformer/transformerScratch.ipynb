{
  "cells": [
    {
      "cell_type": "code",
      "execution_count": 1,
      "metadata": {
        "colab": {
          "base_uri": "https://localhost:8080/"
        },
        "id": "7-I-IgnUpfl_",
        "outputId": "bb49bfc2-8ebf-4c51-b1a3-a1af69ecc80d"
      },
      "outputs": [
        {
          "name": "stdout",
          "output_type": "stream",
          "text": [
            "--2024-08-25 22:55:57--  https://raw.githubusercontent.com/karpathy/char-rnn/master/data/tinyshakespeare/input.txt\n",
            "Resolving raw.githubusercontent.com (raw.githubusercontent.com)... 185.199.109.133, 185.199.108.133, 185.199.111.133, ...\n",
            "Connecting to raw.githubusercontent.com (raw.githubusercontent.com)|185.199.109.133|:443... connected.\n",
            "HTTP request sent, awaiting response... 200 OK\n",
            "Length: 1115394 (1.1M) [text/plain]\n",
            "Saving to: 'input.txt'\n",
            "\n",
            "input.txt           100%[===================>]   1.06M  --.-KB/s    in 0.1s    \n",
            "\n",
            "2024-08-25 22:55:58 (9.11 MB/s) - 'input.txt' saved [1115394/1115394]\n",
            "\n"
          ]
        }
      ],
      "source": [
        "!wget https://raw.githubusercontent.com/karpathy/char-rnn/master/data/tinyshakespeare/input.txt"
      ]
    },
    {
      "cell_type": "code",
      "execution_count": 2,
      "metadata": {
        "id": "uPsb2O2Jp4U5"
      },
      "outputs": [],
      "source": [
        "with open('input.txt', 'r', encoding='utf-8') as f:\n",
        "    text = f.read()"
      ]
    },
    {
      "cell_type": "code",
      "execution_count": 3,
      "metadata": {
        "colab": {
          "base_uri": "https://localhost:8080/"
        },
        "id": "T5YDfhgtp8pV",
        "outputId": "4e3084bd-0a43-4f83-a219-7813a998dee8"
      },
      "outputs": [
        {
          "name": "stdout",
          "output_type": "stream",
          "text": [
            "\n",
            " !$&',-.3:;?ABCDEFGHIJKLMNOPQRSTUVWXYZabcdefghijklmnopqrstuvwxyz\n",
            "65\n"
          ]
        }
      ],
      "source": [
        "chars = sorted(list(set(text)))\n",
        "vocab_size = len(chars)\n",
        "print(''.join(chars))\n",
        "print(vocab_size)"
      ]
    },
    {
      "cell_type": "markdown",
      "metadata": {
        "id": "Rhq_RHdRqzSs"
      },
      "source": [
        "Below this can be changed since we are just using encode and decode and on a character level for encoding and decoding."
      ]
    },
    {
      "cell_type": "code",
      "execution_count": 4,
      "metadata": {
        "id": "t5mZ1_XRqDvr"
      },
      "outputs": [],
      "source": [
        "stoi = { ch:i for i,ch in enumerate(chars) } # mapping characters to its index\n",
        "itos = { i:ch for i,ch in enumerate(chars) } # mapping index to its characters\n",
        "def encode(s):\n",
        "  res = []\n",
        "  for c in s:\n",
        "    res.append(stoi[c])\n",
        "  return res\n",
        "def decode(encodedList):\n",
        "  res = ''\n",
        "  for i in encodedList:\n",
        "    res += itos[i]\n",
        "  return res"
      ]
    },
    {
      "cell_type": "markdown",
      "metadata": {
        "id": "-CwDjGkWrCuD"
      },
      "source": [
        "Example below of how to use encode and decode string"
      ]
    },
    {
      "cell_type": "code",
      "execution_count": 5,
      "metadata": {
        "colab": {
          "base_uri": "https://localhost:8080/"
        },
        "id": "nwJ-HnZ0qyDY",
        "outputId": "7a67f9bd-4ce5-46df-dccb-67108a82e94b"
      },
      "outputs": [
        {
          "name": "stdout",
          "output_type": "stream",
          "text": [
            "[20, 43, 50, 50, 53, 1, 35, 53, 56, 50, 42]\n",
            "Hello World\n"
          ]
        }
      ],
      "source": [
        "encodedList = encode(\"Hello World\")\n",
        "print(encodedList)\n",
        "decodedString = decode(encodedList)\n",
        "print(decodedString)"
      ]
    },
    {
      "cell_type": "code",
      "execution_count": 6,
      "metadata": {
        "colab": {
          "base_uri": "https://localhost:8080/"
        },
        "id": "PFKaMIWvrMLa",
        "outputId": "36b06a02-1320-4af9-c200-7797d4185845"
      },
      "outputs": [
        {
          "name": "stdout",
          "output_type": "stream",
          "text": [
            "[18, 47, 56, 57, 58, 1, 15, 47, 58, 47, 64, 43, 52, 10, 0, 14, 43, 44, 53, 56, 43, 1, 61, 43, 1, 54, 56, 53, 41, 43, 43, 42, 1, 39, 52, 63, 1, 44, 59, 56, 58, 46, 43, 56, 6, 1, 46, 43, 39, 56, 1, 51, 43, 1, 57, 54, 43, 39, 49, 8, 0, 0, 13, 50, 50, 10, 0, 31, 54, 43, 39, 49, 6, 1, 57, 54, 43, 39, 49, 8, 0, 0, 18, 47, 56, 57, 58, 1, 15, 47, 58, 47, 64, 43, 52, 10, 0, 37, 53, 59]\n"
          ]
        }
      ],
      "source": [
        "# encode the entire dataset\n",
        "\n",
        "print(encode(text)[:100])"
      ]
    },
    {
      "cell_type": "code",
      "execution_count": null,
      "metadata": {},
      "outputs": [],
      "source": [
        "import tensorflow as tf"
      ]
    },
    {
      "cell_type": "code",
      "execution_count": 21,
      "metadata": {},
      "outputs": [
        {
          "name": "stdout",
          "output_type": "stream",
          "text": [
            "(1115394,)\n",
            "<dtype: 'int64'>\n",
            "<tf.Variable 'Variable:0' shape=(1115394,) dtype=int64, numpy=array([18, 47, 56, ..., 45,  8,  0])>\n"
          ]
        }
      ],
      "source": [
        "# encode my text as a tensor\n",
        "tensor_data = tf.Variable(encode(text), dtype=tf.int64)\n",
        "print(tensor_data.shape)\n",
        "print(tensor_data.dtype)\n",
        "print(tensor_data)"
      ]
    },
    {
      "cell_type": "code",
      "execution_count": 28,
      "metadata": {},
      "outputs": [
        {
          "name": "stdout",
          "output_type": "stream",
          "text": [
            "tf.Tensor([18 47 56 ... 43 56 43], shape=(1003854,), dtype=int64)\n",
            "tf.Tensor([12  0  0 ... 45  8  0], shape=(111540,), dtype=int64)\n"
          ]
        }
      ],
      "source": [
        "length_train = int(0.9 * tensor_data.shape[0])\n",
        "\n",
        "training_data = tensor_data[:length_train]\n",
        "validation_data = tensor_data[length_train:]\n",
        "\n",
        "print(training_data)\n",
        "print(validation_data)"
      ]
    },
    {
      "cell_type": "code",
      "execution_count": 30,
      "metadata": {},
      "outputs": [
        {
          "name": "stdout",
          "output_type": "stream",
          "text": [
            "Input: [18], Output: 47\n",
            "Input: [18 47], Output: 56\n",
            "Input: [18 47 56], Output: 57\n",
            "Input: [18 47 56 57], Output: 58\n",
            "Input: [18 47 56 57 58], Output: 1\n",
            "Input: [18 47 56 57 58  1], Output: 15\n",
            "Input: [18 47 56 57 58  1 15], Output: 47\n",
            "Input: [18 47 56 57 58  1 15 47], Output: 58\n"
          ]
        }
      ],
      "source": [
        "# creating a block size\n",
        "block_size = 8\n",
        "\n",
        "input_data = training_data[:block_size]\n",
        "output_data = training_data[1:block_size+1]\n",
        "\n",
        "for i in range(8):\n",
        "    context = input_data[:i+1]\n",
        "    target = output_data[i]\n",
        "    print(f\"Input: {context}, Output: {target}\")"
      ]
    },
    {
      "cell_type": "code",
      "execution_count": 41,
      "metadata": {},
      "outputs": [
        {
          "name": "stdout",
          "output_type": "stream",
          "text": [
            "Context Matrix: [[ 1 51 63  1 41 53 39 58]\n",
            " [39 42  0 20 47 57  1 52]\n",
            " [32 53  1 56 43 60 43 50]\n",
            " [54 39 52 63  1 54 47 43]]\n",
            "Target Matrix: [[51 63  1 41 53 39 58  6]\n",
            " [42  0 20 47 57  1 52 39]\n",
            " [53  1 56 43 60 43 50  1]\n",
            " [39 52 63  1 54 47 43 41]]\n"
          ]
        }
      ],
      "source": [
        "# creating batches to reduce computation on cpu\n",
        "tf.random.set_seed(1337)\n",
        "\n",
        "batch_size = 4 # number of independent sequences we will process in parallel\n",
        "block_size = 8 # maximum context for predictions\n",
        "\n",
        "def get_batch(data_type):\n",
        "    data = None\n",
        "    if data_type == \"Training\": data = training_data\n",
        "    else: data = validation_data\n",
        "\n",
        "    max_start = tf.size(data) - block_size\n",
        "\n",
        "    random_indices = tf.random.uniform(shape=[batch_size], minval=0, maxval=max_start, dtype=tf.int32)\n",
        "\n",
        "    # make starting indices new matrices for context\n",
        "    # making new matrices for target\n",
        "    x = []\n",
        "    y = []\n",
        "\n",
        "    for i in random_indices:\n",
        "        x.append(data[i:i+block_size])\n",
        "        y.append(data[i+1:i+1+block_size])\n",
        "    \n",
        "    x = tf.stack(x)\n",
        "    y = tf.stack(y)\n",
        "    return x, y\n",
        "    print(f\"Context Matrix: {x}\")\n",
        "    print(f\"Target Matrix: {y}\")\n",
        "\n",
        "x_batch, y_batch = get_batch(\"Training\")\n",
        "\n",
        "print(f\"Context Matrix: {x_batch}\")\n",
        "print(f\"Target Matrix: {y_batch}\")"
      ]
    },
    {
      "cell_type": "code",
      "execution_count": 43,
      "metadata": {},
      "outputs": [
        {
          "name": "stdout",
          "output_type": "stream",
          "text": [
            "when input is [1] the target: 51\n",
            "when input is [1, 51] the target: 63\n",
            "when input is [1, 51, 63] the target: 1\n",
            "when input is [1, 51, 63, 1] the target: 41\n",
            "when input is [1, 51, 63, 1, 41] the target: 53\n",
            "when input is [1, 51, 63, 1, 41, 53] the target: 39\n",
            "when input is [1, 51, 63, 1, 41, 53, 39] the target: 58\n",
            "when input is [1, 51, 63, 1, 41, 53, 39, 58] the target: 6\n",
            "when input is [39] the target: 42\n",
            "when input is [39, 42] the target: 0\n",
            "when input is [39, 42, 0] the target: 20\n",
            "when input is [39, 42, 0, 20] the target: 47\n",
            "when input is [39, 42, 0, 20, 47] the target: 57\n",
            "when input is [39, 42, 0, 20, 47, 57] the target: 1\n",
            "when input is [39, 42, 0, 20, 47, 57, 1] the target: 52\n",
            "when input is [39, 42, 0, 20, 47, 57, 1, 52] the target: 39\n",
            "when input is [32] the target: 53\n",
            "when input is [32, 53] the target: 1\n",
            "when input is [32, 53, 1] the target: 56\n",
            "when input is [32, 53, 1, 56] the target: 43\n",
            "when input is [32, 53, 1, 56, 43] the target: 60\n",
            "when input is [32, 53, 1, 56, 43, 60] the target: 43\n",
            "when input is [32, 53, 1, 56, 43, 60, 43] the target: 50\n",
            "when input is [32, 53, 1, 56, 43, 60, 43, 50] the target: 1\n",
            "when input is [54] the target: 39\n",
            "when input is [54, 39] the target: 52\n",
            "when input is [54, 39, 52] the target: 63\n",
            "when input is [54, 39, 52, 63] the target: 1\n",
            "when input is [54, 39, 52, 63, 1] the target: 54\n",
            "when input is [54, 39, 52, 63, 1, 54] the target: 47\n",
            "when input is [54, 39, 52, 63, 1, 54, 47] the target: 43\n",
            "when input is [54, 39, 52, 63, 1, 54, 47, 43] the target: 41\n"
          ]
        }
      ],
      "source": [
        "for b in range(batch_size): # batch dimension\n",
        "    for t in range(block_size): # time dimension\n",
        "        context = x_batch[b, :t+1]\n",
        "        target = y_batch[b,t]\n",
        "        print(f\"when input is {context.numpy().tolist()} the target: {target}\")"
      ]
    },
    {
      "cell_type": "code",
      "execution_count": null,
      "metadata": {},
      "outputs": [],
      "source": [
        "# create a neural network: example uses bigram we can use something else..."
      ]
    }
  ],
  "metadata": {
    "colab": {
      "provenance": []
    },
    "kernelspec": {
      "display_name": "Python 3",
      "name": "python3"
    },
    "language_info": {
      "codemirror_mode": {
        "name": "ipython",
        "version": 3
      },
      "file_extension": ".py",
      "mimetype": "text/x-python",
      "name": "python",
      "nbconvert_exporter": "python",
      "pygments_lexer": "ipython3",
      "version": "3.11.9"
    }
  },
  "nbformat": 4,
  "nbformat_minor": 0
}
